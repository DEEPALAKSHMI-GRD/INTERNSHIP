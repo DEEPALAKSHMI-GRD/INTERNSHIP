{
 "cells": [
  {
   "cell_type": "code",
   "execution_count": 1,
   "id": "b177100c-498a-421f-ac4c-721028f2baff",
   "metadata": {},
   "outputs": [],
   "source": [
    "import dask.dataframe as dd"
   ]
  },
  {
   "cell_type": "code",
   "execution_count": 5,
   "id": "5f204715-db92-4271-af85-2f87777f71da",
   "metadata": {},
   "outputs": [],
   "source": [
    "df = dd.read_parquet(\"yellow_tripdata_2023-01.parquet\")\n"
   ]
  },
  {
   "cell_type": "code",
   "execution_count": 7,
   "id": "dbe56a40-bfac-4d32-8e4f-49e838439484",
   "metadata": {},
   "outputs": [],
   "source": [
    "df = df.dropna(subset=[\"tpep_pickup_datetime\", \"tpep_dropoff_datetime\", \"trip_distance\", \"fare_amount\"])\n",
    "df = df[df.trip_distance > 0]\n",
    "df = df[df.fare_amount > 0]\n",
    "\n",
    "# Extract hour"
   ]
  },
  {
   "cell_type": "code",
   "execution_count": 9,
   "id": "0d99fdcd-ced1-41fc-8089-4bf878942926",
   "metadata": {},
   "outputs": [],
   "source": [
    "df['hour'] = dd.to_datetime(df['tpep_pickup_datetime']).dt.hour"
   ]
  },
  {
   "cell_type": "code",
   "execution_count": 11,
   "id": "52e33d5d-0059-4045-997f-4504d86790ff",
   "metadata": {},
   "outputs": [],
   "source": [
    "trip_count = df.groupby('hour').size().compute()\n",
    "avg_fare = df.groupby('hour').fare_amount.mean().compute()\n",
    "avg_distance = df.groupby('hour').trip_distance.mean().compute()\n"
   ]
  },
  {
   "cell_type": "code",
   "execution_count": 13,
   "id": "e9c0789e-01d3-42fc-a3f0-28e5f2579786",
   "metadata": {},
   "outputs": [
    {
     "name": "stdout",
     "output_type": "stream",
     "text": [
      "Trip Count by Hour:\n",
      "hour\n",
      "0      82723\n",
      "1      58102\n",
      "2      40715\n",
      "3      26354\n",
      "4      16816\n",
      "5      17091\n",
      "6      42508\n",
      "7      84885\n",
      "8     114479\n",
      "9     128442\n",
      "10    140715\n",
      "11    151018\n",
      "12    166249\n",
      "13    174835\n",
      "14    187495\n",
      "15    192125\n",
      "16    191473\n",
      "17    205090\n",
      "18    211550\n",
      "19    188975\n",
      "20    162326\n",
      "21    158318\n",
      "22    144309\n",
      "23    111789\n",
      "dtype: int64\n"
     ]
    }
   ],
   "source": [
    "print(\"Trip Count by Hour:\")\n",
    "print(trip_count)\n"
   ]
  },
  {
   "cell_type": "code",
   "execution_count": 15,
   "id": "56fedd34-17ba-4998-9848-d3b72b5ddc9e",
   "metadata": {},
   "outputs": [
    {
     "name": "stdout",
     "output_type": "stream",
     "text": [
      "\n",
      "Average Fare by Hour:\n",
      "hour\n",
      "0     19.840308\n",
      "1     17.972205\n",
      "2     16.966450\n",
      "3     17.996856\n",
      "4     22.518931\n",
      "5     26.577386\n",
      "6     22.218294\n",
      "7     19.013237\n",
      "8     17.536957\n",
      "9     17.634248\n",
      "10    17.713730\n",
      "11    17.417086\n",
      "12    17.764332\n",
      "13    18.452733\n",
      "14    19.720030\n",
      "15    19.280019\n",
      "16    19.528206\n",
      "17    18.643625\n",
      "18    17.014972\n",
      "19    17.626386\n",
      "20    17.997595\n",
      "21    18.480446\n",
      "22    19.405062\n",
      "23    20.583633\n",
      "Name: fare_amount, dtype: float64\n"
     ]
    }
   ],
   "source": [
    "print(\"\\nAverage Fare by Hour:\")\n",
    "print(avg_fare)"
   ]
  },
  {
   "cell_type": "code",
   "execution_count": 17,
   "id": "e018d13c-0908-43e8-8f8b-82a68c7c1f7d",
   "metadata": {},
   "outputs": [
    {
     "name": "stdout",
     "output_type": "stream",
     "text": [
      "\n",
      "Average Distance by Hour:\n",
      "hour\n",
      "0      4.093247\n",
      "1      3.555088\n",
      "2      3.266520\n",
      "3      3.856137\n",
      "4      4.988764\n",
      "5     16.070995\n",
      "6      5.547792\n",
      "7      5.350360\n",
      "8      5.616075\n",
      "9      3.165728\n",
      "10     3.132906\n",
      "11     3.261081\n",
      "12     3.178067\n",
      "13     3.282241\n",
      "14     3.608464\n",
      "15     3.733171\n",
      "16     3.520834\n",
      "17     4.558827\n",
      "18     4.019018\n",
      "19     3.521689\n",
      "20     3.506190\n",
      "21     3.931719\n",
      "22     3.885100\n",
      "23     4.265217\n",
      "Name: trip_distance, dtype: float64\n"
     ]
    }
   ],
   "source": [
    "print(\"\\nAverage Distance by Hour:\")\n",
    "print(avg_distance)"
   ]
  },
  {
   "cell_type": "code",
   "execution_count": null,
   "id": "ee853633-2b06-441a-80a5-137d4be37a86",
   "metadata": {},
   "outputs": [],
   "source": []
  }
 ],
 "metadata": {
  "kernelspec": {
   "display_name": "Python [conda env:base] *",
   "language": "python",
   "name": "conda-base-py"
  },
  "language_info": {
   "codemirror_mode": {
    "name": "ipython",
    "version": 3
   },
   "file_extension": ".py",
   "mimetype": "text/x-python",
   "name": "python",
   "nbconvert_exporter": "python",
   "pygments_lexer": "ipython3",
   "version": "3.12.7"
  }
 },
 "nbformat": 4,
 "nbformat_minor": 5
}
